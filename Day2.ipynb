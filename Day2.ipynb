{
 "cells": [
  {
   "cell_type": "markdown",
   "metadata": {},
   "source": [
    "### 1. What do you get if you multiply your final horizontal position by your final depth?\n",
    "### 2. What do you get if you multiply your final horizontal position by your final depth?"
   ]
  },
  {
   "cell_type": "code",
   "execution_count": 1,
   "metadata": {},
   "outputs": [
    {
     "data": {
      "text/plain": [
       "['forward 8\\n', 'forward 3\\n', 'forward 8\\n', 'down 6\\n', 'forward 3\\n']"
      ]
     },
     "execution_count": 1,
     "metadata": {},
     "output_type": "execute_result"
    }
   ],
   "source": [
    "#read file\n",
    "f = open('commands.txt', 'r') \n",
    "lines = f.readlines()\n",
    "f.close()\n",
    "\n",
    "lines[:5]"
   ]
  },
  {
   "cell_type": "code",
   "execution_count": 5,
   "metadata": {},
   "outputs": [
    {
     "data": {
      "text/plain": [
       "['forward 8', 'forward 3', 'forward 8', 'down 6', 'forward 3']"
      ]
     },
     "execution_count": 5,
     "metadata": {},
     "output_type": "execute_result"
    }
   ],
   "source": [
    "# cleaning\n",
    "import re\n",
    "commands = []\n",
    "for l in lines: commands.append(re.sub('[\\'|(\\\\n)]+', '', l))\n",
    "\n",
    "commands[:5]"
   ]
  },
  {
   "cell_type": "code",
   "execution_count": 11,
   "metadata": {},
   "outputs": [
    {
     "name": "stdout",
     "output_type": "stream",
     "text": [
      "horizontal = 1911\n",
      "depth = 724\n"
     ]
    }
   ],
   "source": [
    "horizontal = 0\n",
    "depth = 0\n",
    "\n",
    "for command in commands:\n",
    "    c = command.split(\" \")\n",
    "    if c[0] == 'forward':\n",
    "        horizontal += int(c[1])\n",
    "    elif c[0] == 'down':\n",
    "        depth += int(c[1])\n",
    "    else:\n",
    "        depth -= int(c[1])\n",
    "\n",
    "print('horizontal = %d\\ndepth = %d' %(horizontal, depth))"
   ]
  },
  {
   "cell_type": "code",
   "execution_count": 12,
   "metadata": {},
   "outputs": [
    {
     "name": "stdout",
     "output_type": "stream",
     "text": [
      "Answer 1: 1383564\n"
     ]
    }
   ],
   "source": [
    "print('Answer 1:', horizontal * depth)"
   ]
  },
  {
   "cell_type": "code",
   "execution_count": 14,
   "metadata": {},
   "outputs": [
    {
     "name": "stdout",
     "output_type": "stream",
     "text": [
      "horizontal = 1911\n",
      "depth = 778813\n"
     ]
    }
   ],
   "source": [
    "horizontal_2 = 0\n",
    "depth_2 = 0\n",
    "aim = 0\n",
    "\n",
    "for command in commands:\n",
    "    c = command.split(\" \")\n",
    "    if c[0] == 'forward':\n",
    "        horizontal_2 += int(c[1])\n",
    "        depth_2 += aim * int(c[1])\n",
    "    elif c[0] == 'down':\n",
    "        aim += int(c[1])\n",
    "    else:\n",
    "        aim -= int(c[1])\n",
    "\n",
    "print('horizontal = %d\\ndepth = %d' %(horizontal_2, depth_2))"
   ]
  },
  {
   "cell_type": "code",
   "execution_count": 15,
   "metadata": {},
   "outputs": [
    {
     "name": "stdout",
     "output_type": "stream",
     "text": [
      "Answer 2: 1488311643\n"
     ]
    }
   ],
   "source": [
    "print('Answer 2:', horizontal_2 * depth_2)"
   ]
  }
 ],
 "metadata": {
  "interpreter": {
   "hash": "9cf3e62341bd4183173a1159c47c02bb03d818f88413248385459adf80d3bee4"
  },
  "kernelspec": {
   "display_name": "Python 3.8.5 64-bit ('base': conda)",
   "language": "python",
   "name": "python3"
  },
  "language_info": {
   "codemirror_mode": {
    "name": "ipython",
    "version": 3
   },
   "file_extension": ".py",
   "mimetype": "text/x-python",
   "name": "python",
   "nbconvert_exporter": "python",
   "pygments_lexer": "ipython3",
   "version": "3.8.5"
  },
  "orig_nbformat": 4
 },
 "nbformat": 4,
 "nbformat_minor": 2
}
