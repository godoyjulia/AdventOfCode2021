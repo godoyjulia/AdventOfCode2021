{
 "cells": [
  {
   "cell_type": "markdown",
   "metadata": {},
   "source": [
    "### 1.  At how many points do at least two lines overlap? (horizontal + vertical)\n",
    "### 2.  At how many points do at least two lines overlap? (+ diagonal)"
   ]
  },
  {
   "cell_type": "code",
   "execution_count": 1,
   "metadata": {},
   "outputs": [
    {
     "data": {
      "text/plain": [
       "['510,771 -> 510,322\\n',\n",
       " '753,99 -> 753,280\\n',\n",
       " '160,330 -> 33,330\\n',\n",
       " '700,793 -> 700,892\\n',\n",
       " '327,168 -> 327,690\\n']"
      ]
     },
     "execution_count": 1,
     "metadata": {},
     "output_type": "execute_result"
    }
   ],
   "source": [
    "f = open(\"vents.txt\",\"r\")\n",
    "coord = f.readlines()\n",
    "coord[:5]"
   ]
  },
  {
   "cell_type": "code",
   "execution_count": 2,
   "metadata": {},
   "outputs": [
    {
     "data": {
      "text/plain": [
       "[[510, 771, 510, 322],\n",
       " [753, 99, 753, 280],\n",
       " [160, 330, 33, 330],\n",
       " [700, 793, 700, 892],\n",
       " [327, 168, 327, 690]]"
      ]
     },
     "execution_count": 2,
     "metadata": {},
     "output_type": "execute_result"
    }
   ],
   "source": [
    "import re\n",
    "coordinates = []\n",
    "\n",
    "for c in coord:\n",
    "    values = re.split('[,|\\s\\->|\\\\n]', c)\n",
    "    values = list(filter(None, values))\n",
    "    values = list(map(int, values))\n",
    "    coordinates.append(values)\n",
    "coordinates[:5]"
   ]
  },
  {
   "cell_type": "code",
   "execution_count": 3,
   "metadata": {},
   "outputs": [
    {
     "data": {
      "text/plain": [
       "[(510, 322), (510, 323), (510, 324), (510, 325), (510, 326)]"
      ]
     },
     "execution_count": 3,
     "metadata": {},
     "output_type": "execute_result"
    }
   ],
   "source": [
    "visited =[]\n",
    "for c in coordinates:\n",
    "    if c[0] == c[2]:\n",
    "        y1 = min(c[1], c[3])\n",
    "        y2 = max(c[1], c[3])\n",
    "        while (y1<= y2):\n",
    "            visited.append((c[0], y1))\n",
    "            y1 += 1\n",
    "    if c[1] == c[3]:\n",
    "        x1 = min(c[0], c[2])\n",
    "        x2 = max(c[0], c[2])\n",
    "        while (x1<= x2):\n",
    "            visited.append((x1, c[1]))\n",
    "            x1 += 1\n",
    "\n",
    "visited[:5]"
   ]
  },
  {
   "cell_type": "code",
   "execution_count": 4,
   "metadata": {},
   "outputs": [
    {
     "data": {
      "text/plain": [
       "6397"
      ]
     },
     "execution_count": 4,
     "metadata": {},
     "output_type": "execute_result"
    }
   ],
   "source": [
    "import collections\n",
    "\n",
    "c = collections.Counter(visited)\n",
    "tot = 0\n",
    "\n",
    "for key, values in c.items():\n",
    "    if values >= 2: \n",
    "        tot+=1\n",
    "\n",
    "tot"
   ]
  },
  {
   "cell_type": "code",
   "execution_count": 5,
   "metadata": {},
   "outputs": [
    {
     "name": "stdout",
     "output_type": "stream",
     "text": [
      "Answer 1: 6397\n"
     ]
    }
   ],
   "source": [
    "print(\"Answer 1:\", tot)"
   ]
  },
  {
   "cell_type": "code",
   "execution_count": 13,
   "metadata": {},
   "outputs": [
    {
     "data": {
      "text/plain": [
       "[(510, 322), (510, 323), (510, 324), (510, 325), (510, 326)]"
      ]
     },
     "execution_count": 13,
     "metadata": {},
     "output_type": "execute_result"
    }
   ],
   "source": [
    "visited2 =[]\n",
    "for c in coordinates:\n",
    "    if c[0] == c[2]:\n",
    "        y1 = min(c[1], c[3])\n",
    "        y2 = max(c[1], c[3])\n",
    "        while (y1<= y2):\n",
    "            visited2.append((c[0], y1))\n",
    "            y1 += 1\n",
    "    if c[1] == c[3]:\n",
    "        x1 = min(c[0], c[2])\n",
    "        x2 = max(c[0], c[2])\n",
    "        while (x1<= x2):\n",
    "            visited2.append((x1, c[1]))\n",
    "            x1 += 1\n",
    "    if c[0] > c[2] and c[1] > c[3]:\n",
    "        x = c[0]\n",
    "        y = c[1]\n",
    "        while (x >= c[2] and y >= c[3]):\n",
    "            visited2.append((x, y))\n",
    "            x-=1\n",
    "            y-=1\n",
    "    if c[0] > c[2] and c[1] < c[3]:\n",
    "        x = c[0]\n",
    "        y = c[1]\n",
    "        while (x >= c[2] and y <= c[3]):\n",
    "            visited2.append((x, y))\n",
    "            x-=1\n",
    "            y+=1\n",
    "    if c[0] < c[2] and c[1] > c[3]:\n",
    "        x = c[0]\n",
    "        y = c[1]\n",
    "        while (x <= c[2] and y >=c [3]):\n",
    "            visited2.append((x, y))\n",
    "            x+=1\n",
    "            y-=1\n",
    "    if c[0] < c[2] and c[1] < c[3]:\n",
    "        x = c[0]\n",
    "        y = c[1]\n",
    "        while (x <= c[2] and y <= c[3]):\n",
    "            visited2.append((x, y))\n",
    "            x+=1\n",
    "            y+=1\n",
    "\n",
    "visited2[:5]"
   ]
  },
  {
   "cell_type": "code",
   "execution_count": 14,
   "metadata": {},
   "outputs": [
    {
     "data": {
      "text/plain": [
       "22335"
      ]
     },
     "execution_count": 14,
     "metadata": {},
     "output_type": "execute_result"
    }
   ],
   "source": [
    "c2 = collections.Counter(visited2)\n",
    "tot2 = 0\n",
    "\n",
    "for key, values in c2.items():\n",
    "    if values >= 2: \n",
    "        tot2+=1\n",
    "\n",
    "tot2"
   ]
  },
  {
   "cell_type": "code",
   "execution_count": 15,
   "metadata": {},
   "outputs": [
    {
     "name": "stdout",
     "output_type": "stream",
     "text": [
      "Answer 2: 22335\n"
     ]
    }
   ],
   "source": [
    "print(\"Answer 2:\", tot2)"
   ]
  }
 ],
 "metadata": {
  "interpreter": {
   "hash": "9cf3e62341bd4183173a1159c47c02bb03d818f88413248385459adf80d3bee4"
  },
  "kernelspec": {
   "display_name": "Python 3.8.5 64-bit ('base': conda)",
   "language": "python",
   "name": "python3"
  },
  "language_info": {
   "codemirror_mode": {
    "name": "ipython",
    "version": 3
   },
   "file_extension": ".py",
   "mimetype": "text/x-python",
   "name": "python",
   "nbconvert_exporter": "python",
   "pygments_lexer": "ipython3",
   "version": "3.8.5"
  },
  "orig_nbformat": 4
 },
 "nbformat": 4,
 "nbformat_minor": 2
}
