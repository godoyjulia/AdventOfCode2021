{
 "cells": [
  {
   "cell_type": "markdown",
   "metadata": {},
   "source": [
    "### 1. To guarantee victory against the giant squid, figure out which board will win first. What will your final score be if you choose that board?\n",
    "\n",
    "### 2. Figure out which board will win last. Once it wins, what would its final score be?"
   ]
  },
  {
   "cell_type": "code",
   "execution_count": 68,
   "metadata": {},
   "outputs": [],
   "source": [
    "f = open(\"bingo.txt\", \"r\")\n",
    "random_num = f.readline()\n",
    "board = f.readlines()"
   ]
  },
  {
   "cell_type": "code",
   "execution_count": 69,
   "metadata": {},
   "outputs": [
    {
     "data": {
      "text/plain": [
       "[72, 86, 73, 66, 37]"
      ]
     },
     "execution_count": 69,
     "metadata": {},
     "output_type": "execute_result"
    }
   ],
   "source": [
    "import re\n",
    "random_num = random_num.split(\",\")\n",
    "random_num = list(map(int, random_num))\n",
    "random_num[:5]"
   ]
  },
  {
   "cell_type": "code",
   "execution_count": 70,
   "metadata": {},
   "outputs": [
    {
     "data": {
      "text/plain": [
       "[[58, 60, 65, 4, 91],\n",
       " [73, 31, 80, 83, 44],\n",
       " [98, 47, 33, 21, 25],\n",
       " [76, 6, 41, 94, 50],\n",
       " [55, 30, 52, 11, 36]]"
      ]
     },
     "execution_count": 70,
     "metadata": {},
     "output_type": "execute_result"
    }
   ],
   "source": [
    "boards = []\n",
    "\n",
    "for b in board:\n",
    "    if b != \"\\n\":\n",
    "        b = re.sub(r\"\\n\", \"\", b) #removes new line\n",
    "        b = re.split(\"\\s+\", b) #splits at white space\n",
    "        b = list(filter(None, b)) #removes empty strings\n",
    "        b = list(map(int, b)) #transforsm into list of int\n",
    "        boards.append(b)\n",
    "\n",
    "boards[:5]"
   ]
  },
  {
   "cell_type": "code",
   "execution_count": 71,
   "metadata": {},
   "outputs": [
    {
     "name": "stdout",
     "output_type": "stream",
     "text": [
      "[61, -10, -14, 53, 83] \n",
      "\n",
      "[32, 28, -66, 65, -40] \n",
      "\n",
      "[63, -86, -48, -76, 6] \n",
      "\n",
      "[92, 69, -95, 24, 55] \n",
      "\n",
      "[59, 71, -72, 30, 33] \n",
      "\n"
     ]
    }
   ],
   "source": [
    "# strategy: multiply chosen numbers by -1\n",
    "sum_unmarked_num = 0\n",
    "just_called_num = 0\n",
    "bingo = False\n",
    "\n",
    "for num in random_num:\n",
    "    for index in range(0, len(boards), 5): #index: begining of each board\n",
    "        #is the called number in the board?\n",
    "        for row in range(5): # in each row of the board\n",
    "            for collumn in range(5): # in each collumn of the board\n",
    "                if boards[index+row][collumn] == num: \n",
    "                    boards[index+row][collumn] = boards[index+row][collumn] * (-1)\n",
    "\n",
    "        \n",
    "        \n",
    "        if not bingo:\n",
    "            #completed row?\n",
    "            for i in range(5):\n",
    "                b = boards[index+i] #get a row from the board\n",
    "                if b[0]<0 and b[1]<0 and b[2]<0 and b[3]<0 and b[4]<0: #if all elements in the row are bellow 0\n",
    "                    bingo = True\n",
    "\n",
    "        if not bingo:\n",
    "            #completed collumn?\n",
    "            for i in range(5):\n",
    "                if boards[index][i]<0 and boards[index+1][i]<0 and boards[index+2][i]<0 and boards[index+3][i]<0 and boards[index+4][i]<0: #if all elements in the collumn are bellow 0\n",
    "                    bingo = True\n",
    "\n",
    "        #bingo?\n",
    "        if bingo:\n",
    "            just_called_num = num\n",
    "            for row in range(5): # in each row of the board\n",
    "                print(boards[index+row], \"\\n\")\n",
    "                for collumn in range(5): # in each collumn of the board\n",
    "                    if boards[index+row][collumn] > 0: \n",
    "                        sum_unmarked_num += boards[index+row][collumn]\n",
    "            break;\n",
    "    if bingo:\n",
    "        break;"
   ]
  },
  {
   "cell_type": "code",
   "execution_count": 72,
   "metadata": {},
   "outputs": [
    {
     "name": "stdout",
     "output_type": "stream",
     "text": [
      "just_called_num: 14\n",
      "sum_unmarked_num: 824\n"
     ]
    }
   ],
   "source": [
    "print(\"just_called_num: %d\\nsum_unmarked_num: %d\" % (just_called_num, sum_unmarked_num))\n",
    "final_score = just_called_num * sum_unmarked_num"
   ]
  },
  {
   "cell_type": "code",
   "execution_count": 73,
   "metadata": {},
   "outputs": [
    {
     "name": "stdout",
     "output_type": "stream",
     "text": [
      "Answer 1: 11536\n"
     ]
    }
   ],
   "source": [
    "print(\"Answer 1:\", final_score)"
   ]
  },
  {
   "cell_type": "code",
   "execution_count": 74,
   "metadata": {},
   "outputs": [
    {
     "name": "stdout",
     "output_type": "stream",
     "text": [
      "[-82, -11, -88, -77, 92] \n",
      "\n",
      "[-48, -8, 61, -13, -64] \n",
      "\n",
      "[32, -72, -80, -67, -3] \n",
      "\n",
      "[-52, 4, 25, -75, -94] \n",
      "\n",
      "[-53, -20, -33, -6, -16] \n",
      "\n"
     ]
    }
   ],
   "source": [
    "# strategy: multiply chosen numbers by -1\n",
    "sum_unmarked_num2 = 0\n",
    "just_called_num2 = 0\n",
    "bingo = False\n",
    "\n",
    "total_boards = len(boards)/5\n",
    "bingo_boards_index = []\n",
    "\n",
    "for num in random_num:\n",
    "    for index in range(0, len(boards), 5): #index: begining of each board\n",
    "        #is the called number in the board?\n",
    "        for row in range(5): # in each row of the board\n",
    "            for collumn in range(5): # in each collumn of the board\n",
    "                if boards[index+row][collumn] == num: \n",
    "                    boards[index+row][collumn] = boards[index+row][collumn] * (-1)\n",
    "\n",
    "        for i in range(5):\n",
    "            if boards[index+i][0]<0 and boards[index+i][1]<0 and boards[index+i][2]<0 and boards[index+i][3]<0 and boards[index+i][4]<0: #if all elements in the row are bellow 0\n",
    "                bingo = True\n",
    "    \n",
    "        for i in range(5):\n",
    "            if boards[index][i]<0 and boards[index+1][i]<0 and boards[index+2][i]<0 and boards[index+3][i]<0 and boards[index+4][i]<0: #if all elements in the collumn are bellow 0\n",
    "                bingo = True\n",
    "                    \n",
    "        if bingo and index not in bingo_boards_index: \n",
    "            total_boards-=1\n",
    "            bingo_boards_index.append(index)\n",
    "            if total_boards == 0:\n",
    "                just_called_num2 = num\n",
    "                for row in range(5): # in each row of the board\n",
    "                    print(boards[index+row], \"\\n\")\n",
    "                    for collumn in range(5): # in each collumn of the board\n",
    "                        if boards[index+row][collumn] > 0: \n",
    "                            sum_unmarked_num2 += boards[index+row][collumn]\n",
    "        \n",
    "        bingo = False"
   ]
  },
  {
   "cell_type": "code",
   "execution_count": 75,
   "metadata": {},
   "outputs": [
    {
     "name": "stdout",
     "output_type": "stream",
     "text": [
      "just_called_num2: 6\n",
      "sum_unmarked_num2: 214\n"
     ]
    }
   ],
   "source": [
    "print(\"just_called_num2: %d\\nsum_unmarked_num2: %d\" % (just_called_num2, sum_unmarked_num2))\n",
    "final_score2 = just_called_num2 * sum_unmarked_num2"
   ]
  },
  {
   "cell_type": "code",
   "execution_count": 76,
   "metadata": {},
   "outputs": [
    {
     "name": "stdout",
     "output_type": "stream",
     "text": [
      "Answer 2: 1284\n"
     ]
    }
   ],
   "source": [
    "print(\"Answer 2:\", final_score2)"
   ]
  }
 ],
 "metadata": {
  "interpreter": {
   "hash": "9cf3e62341bd4183173a1159c47c02bb03d818f88413248385459adf80d3bee4"
  },
  "kernelspec": {
   "display_name": "Python 3.8.5 64-bit ('base': conda)",
   "language": "python",
   "name": "python3"
  },
  "language_info": {
   "codemirror_mode": {
    "name": "ipython",
    "version": 3
   },
   "file_extension": ".py",
   "mimetype": "text/x-python",
   "name": "python",
   "nbconvert_exporter": "python",
   "pygments_lexer": "ipython3",
   "version": "3.8.5"
  },
  "orig_nbformat": 4
 },
 "nbformat": 4,
 "nbformat_minor": 2
}
