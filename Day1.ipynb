{
 "cells": [
  {
   "cell_type": "markdown",
   "metadata": {},
   "source": [
    "### 1. How many measurements are larger than the previous measurement?\n",
    "### 2. How many sums are larger than the previous sum?"
   ]
  },
  {
   "cell_type": "code",
   "execution_count": 24,
   "metadata": {},
   "outputs": [
    {
     "data": {
      "text/plain": [
       "['162\\n', '164\\n', '165\\n', '166\\n', '175\\n']"
      ]
     },
     "execution_count": 24,
     "metadata": {},
     "output_type": "execute_result"
    }
   ],
   "source": [
    "#read file\n",
    "f = open('measurements.txt', 'r') \n",
    "lines = f.readlines()\n",
    "f.close()\n",
    "\n",
    "lines[:5]"
   ]
  },
  {
   "cell_type": "code",
   "execution_count": 23,
   "metadata": {},
   "outputs": [
    {
     "data": {
      "text/plain": [
       "[162, 164, 165, 166, 175]"
      ]
     },
     "execution_count": 23,
     "metadata": {},
     "output_type": "execute_result"
    }
   ],
   "source": [
    "# cleaning\n",
    "import re\n",
    "measures = []\n",
    "for l in lines: measures.append(int(re.sub('[^0-9]+', '', l)))\n",
    "\n",
    "measures[:5]"
   ]
  },
  {
   "cell_type": "code",
   "execution_count": 27,
   "metadata": {},
   "outputs": [
    {
     "name": "stdout",
     "output_type": "stream",
     "text": [
      "Answer 1: 1387\n"
     ]
    }
   ],
   "source": [
    "#count increases\n",
    "count = 0\n",
    "for index, m in enumerate(measures):\n",
    "    if index != 0: \n",
    "        if m > measures[index-1]: count+=1\n",
    "\n",
    "print(\"Answer 1:\", count)"
   ]
  },
  {
   "cell_type": "code",
   "execution_count": 35,
   "metadata": {},
   "outputs": [
    {
     "data": {
      "text/plain": [
       "1998"
      ]
     },
     "execution_count": 35,
     "metadata": {},
     "output_type": "execute_result"
    }
   ],
   "source": [
    "#calculating window\n",
    "size_measures = len(measures)\n",
    "window = []\n",
    "\n",
    "for index, m in enumerate(measures):\n",
    "    if index <= size_measures-3:\n",
    "        sum = m + measures[index+1] + measures[index+2]\n",
    "        window.append(sum)\n",
    "\n",
    "len(window)"
   ]
  },
  {
   "cell_type": "code",
   "execution_count": 36,
   "metadata": {},
   "outputs": [
    {
     "name": "stdout",
     "output_type": "stream",
     "text": [
      "Answer 2: 1362\n"
     ]
    }
   ],
   "source": [
    "#count increases\n",
    "count_window = 0\n",
    "for index, w in enumerate(window):\n",
    "    if index != 0:\n",
    "        if w > window[index-1]: count_window+=1\n",
    "\n",
    "print(\"Answer 2:\", count_window)"
   ]
  }
 ],
 "metadata": {
  "interpreter": {
   "hash": "9cf3e62341bd4183173a1159c47c02bb03d818f88413248385459adf80d3bee4"
  },
  "kernelspec": {
   "display_name": "Python 3.8.5 64-bit ('base': conda)",
   "language": "python",
   "name": "python3"
  },
  "language_info": {
   "codemirror_mode": {
    "name": "ipython",
    "version": 3
   },
   "file_extension": ".py",
   "mimetype": "text/x-python",
   "name": "python",
   "nbconvert_exporter": "python",
   "pygments_lexer": "ipython3",
   "version": "3.8.5"
  },
  "orig_nbformat": 4
 },
 "nbformat": 4,
 "nbformat_minor": 2
}
