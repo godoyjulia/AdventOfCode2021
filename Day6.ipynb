{
 "cells": [
  {
   "cell_type": "markdown",
   "metadata": {},
   "source": [
    "### Lanternfish\n",
    "\n",
    "1. How many lanternfish would there be after 80 days?"
   ]
  },
  {
   "cell_type": "code",
   "execution_count": 29,
   "metadata": {},
   "outputs": [
    {
     "data": {
      "text/plain": [
       "[1, 5, 5, 1, 5]"
      ]
     },
     "execution_count": 29,
     "metadata": {},
     "output_type": "execute_result"
    }
   ],
   "source": [
    "import re\n",
    "\n",
    "f = open('lanternfish.txt', 'r')\n",
    "input = [int(x) for x in re.split(\",|\\s+|\\n\", f.readline().strip()) ]\n",
    "input[:5]"
   ]
  },
  {
   "cell_type": "code",
   "execution_count": 30,
   "metadata": {},
   "outputs": [
    {
     "data": {
      "text/plain": [
       "[(1, 0), (5, 0), (5, 0), (1, 0), (5, 0)]"
      ]
     },
     "execution_count": 30,
     "metadata": {},
     "output_type": "execute_result"
    }
   ],
   "source": [
    "fishes = []\n",
    "for i in input:\n",
    "    fishes.append((i, 0))\n",
    "fishes[:5]"
   ]
  },
  {
   "cell_type": "code",
   "execution_count": 31,
   "metadata": {},
   "outputs": [
    {
     "data": {
      "text/plain": [
       "346063"
      ]
     },
     "execution_count": 31,
     "metadata": {},
     "output_type": "execute_result"
    }
   ],
   "source": [
    "fishesAfterDay = fishes\n",
    "for i in range(80):\n",
    "    fishes = fishesAfterDay \n",
    "    #print(fishes)\n",
    "    for index, fish in enumerate(fishes):\n",
    "        if fish[0] == 0:\n",
    "            fishesAfterDay[index] = (6,0)\n",
    "            fishesAfterDay.append((8,1))\n",
    "        elif fish[1] == 1:\n",
    "            fishesAfterDay[index] = (fish[0], 0)\n",
    "        else:\n",
    "            fishesAfterDay[index] = (fish[0]-1, 0)\n",
    "\n",
    "len(fishesAfterDay)"
   ]
  },
  {
   "cell_type": "code",
   "execution_count": 10,
   "metadata": {},
   "outputs": [
    {
     "data": {
      "text/plain": [
       "[6, 3, 3, 6, 3, 8, 8]"
      ]
     },
     "execution_count": 10,
     "metadata": {},
     "output_type": "execute_result"
    }
   ],
   "source": [
    "\n",
    "fishesAfter1Day = [0, 4, 4, 0, 4]\n",
    "for index, fish in enumerate([0, 4, 4, 0, 4]):\n",
    "    if fish == 0:\n",
    "        fishesAfter1Day[index] = 6\n",
    "        fishesAfter1Day.append(8)\n",
    "    else:\n",
    "        fishesAfter1Day[index] = fish-1\n",
    "fishesAfter1Day"
   ]
  }
 ],
 "metadata": {
  "kernelspec": {
   "display_name": "Python 3.10.7 64-bit",
   "language": "python",
   "name": "python3"
  },
  "language_info": {
   "codemirror_mode": {
    "name": "ipython",
    "version": 3
   },
   "file_extension": ".py",
   "mimetype": "text/x-python",
   "name": "python",
   "nbconvert_exporter": "python",
   "pygments_lexer": "ipython3",
   "version": "3.10.7"
  },
  "orig_nbformat": 4,
  "vscode": {
   "interpreter": {
    "hash": "3a87034ddc980f8c7dacf4f04ce60f101892d78ac96acb39fe217284c49584f1"
   }
  }
 },
 "nbformat": 4,
 "nbformat_minor": 2
}
