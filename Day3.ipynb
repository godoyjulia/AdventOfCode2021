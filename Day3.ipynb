{
 "cells": [
  {
   "cell_type": "markdown",
   "metadata": {},
   "source": [
    "### 1. What is the power consumption of the submarine?\n",
    "### 2. What is the life support rating of the submarine? "
   ]
  },
  {
   "cell_type": "code",
   "execution_count": 1,
   "metadata": {},
   "outputs": [
    {
     "data": {
      "text/plain": [
       "['100101001000\\n',\n",
       " '011101110101\\n',\n",
       " '000001010101\\n',\n",
       " '001001010001\\n',\n",
       " '001101011110\\n']"
      ]
     },
     "execution_count": 1,
     "metadata": {},
     "output_type": "execute_result"
    }
   ],
   "source": [
    "f = open(\"diagnostic_report.txt\", \"r\")\n",
    "dr = f.readlines()\n",
    "dr[:5]"
   ]
  },
  {
   "cell_type": "code",
   "execution_count": 2,
   "metadata": {},
   "outputs": [
    {
     "data": {
      "text/plain": [
       "['100101001000',\n",
       " '011101110101',\n",
       " '000001010101',\n",
       " '001001010001',\n",
       " '001101011110']"
      ]
     },
     "execution_count": 2,
     "metadata": {},
     "output_type": "execute_result"
    }
   ],
   "source": [
    "import re\n",
    "binary = []\n",
    "for bin in dr:\n",
    "    binary.append(re.sub(r'[^0-1]', '', bin))\n",
    "binary[:5]"
   ]
  },
  {
   "cell_type": "code",
   "execution_count": 3,
   "metadata": {},
   "outputs": [
    {
     "name": "stdout",
     "output_type": "stream",
     "text": [
      "gamma_rate: 001100100101\n",
      "epsilon_rate 110011011010\n"
     ]
    }
   ],
   "source": [
    "gamma_rate = \"\"\n",
    "epsilon_rate = \"\"\n",
    "\n",
    "for i in range(len(binary[0])):\n",
    "    one_count = 0\n",
    "    zero_count = 0\n",
    "    for b in binary:\n",
    "        num = b[i]\n",
    "        if num == '1' : one_count+=1\n",
    "        if num == '0' : zero_count+=1\n",
    "    if one_count > zero_count: \n",
    "        gamma_rate+='1'\n",
    "        epsilon_rate+='0'\n",
    "    else:\n",
    "        gamma_rate+='0'\n",
    "        epsilon_rate+='1'\n",
    "\n",
    "print(\"gamma_rate:\",gamma_rate)\n",
    "print(\"epsilon_rate\",epsilon_rate)"
   ]
  },
  {
   "cell_type": "code",
   "execution_count": 4,
   "metadata": {},
   "outputs": [
    {
     "data": {
      "text/plain": [
       "2648450"
      ]
     },
     "execution_count": 4,
     "metadata": {},
     "output_type": "execute_result"
    }
   ],
   "source": [
    "# int(b, 2)  # Convert a binary string to a decimal int.\n",
    "\n",
    "gr = int(gamma_rate, 2)\n",
    "er = int(epsilon_rate, 2)\n",
    "\n",
    "power_consumption = er * gr\n",
    "power_consumption"
   ]
  },
  {
   "cell_type": "code",
   "execution_count": 8,
   "metadata": {},
   "outputs": [
    {
     "name": "stdout",
     "output_type": "stream",
     "text": [
      "Answer 1: 2648450\n",
      "1000\n"
     ]
    }
   ],
   "source": [
    "print('Answer 1:', power_consumption)"
   ]
  },
  {
   "cell_type": "code",
   "execution_count": 23,
   "metadata": {},
   "outputs": [
    {
     "data": {
      "text/plain": [
       "['001101001001']"
      ]
     },
     "execution_count": 23,
     "metadata": {},
     "output_type": "execute_result"
    }
   ],
   "source": [
    "# calculating oxygen generator\n",
    "oxygen_generator = binary.copy()\n",
    "for i in range(len(binary[0])):\n",
    "    one_count = 0\n",
    "    zero_count = 0\n",
    "    remove_list = []\n",
    "    \n",
    "    for b in oxygen_generator:\n",
    "        if b[i] == '1' : one_count+=1\n",
    "        if b[i] == '0' : zero_count+=1\n",
    "    if one_count >= zero_count: \n",
    "        for b in oxygen_generator:\n",
    "            if b[i] == '0' and len(oxygen_generator) > 1:\n",
    "                remove_list.append(b)\n",
    "    else:\n",
    "        for b in oxygen_generator:\n",
    "            if b[i] == '1' and len(oxygen_generator) > 1:\n",
    "                remove_list.append(b)\n",
    "    \n",
    "    for x in remove_list:\n",
    "        oxygen_generator.remove(x)\n",
    "        \n",
    "oxygen_generator"
   ]
  },
  {
   "cell_type": "code",
   "execution_count": 26,
   "metadata": {},
   "outputs": [
    {
     "data": {
      "text/plain": [
       "['110100111000']"
      ]
     },
     "execution_count": 26,
     "metadata": {},
     "output_type": "execute_result"
    }
   ],
   "source": [
    "# calculating oxygen generator\n",
    "CO2_scrubber = binary.copy()\n",
    "for i in range(len(binary[0])):\n",
    "    one_count = 0\n",
    "    zero_count = 0\n",
    "    remove_list = []\n",
    "    \n",
    "    for b in CO2_scrubber:\n",
    "        if b[i] == '1' : one_count+=1\n",
    "        if b[i] == '0' : zero_count+=1\n",
    "    if zero_count <= one_count: \n",
    "        for b in CO2_scrubber:\n",
    "            if b[i] == '1' and len(CO2_scrubber) > 1:\n",
    "                remove_list.append(b)\n",
    "    else:\n",
    "        for b in CO2_scrubber:\n",
    "            if b[i] == '0' and len(CO2_scrubber) > 1:\n",
    "                remove_list.append(b)\n",
    "    \n",
    "    for x in remove_list:\n",
    "        CO2_scrubber.remove(x)\n",
    "        \n",
    "CO2_scrubber"
   ]
  },
  {
   "cell_type": "code",
   "execution_count": 29,
   "metadata": {},
   "outputs": [
    {
     "data": {
      "text/plain": [
       "2845944"
      ]
     },
     "execution_count": 29,
     "metadata": {},
     "output_type": "execute_result"
    }
   ],
   "source": [
    "og = int(oxygen_generator[0], 2)\n",
    "co2 = int(CO2_scrubber[0], 2)\n",
    "\n",
    "life_support = og * co2\n",
    "life_support"
   ]
  },
  {
   "cell_type": "code",
   "execution_count": 31,
   "metadata": {},
   "outputs": [
    {
     "name": "stdout",
     "output_type": "stream",
     "text": [
      "Answer 2: 2845944\n"
     ]
    }
   ],
   "source": [
    "print(\"Answer 2:\", life_support)"
   ]
  }
 ],
 "metadata": {
  "interpreter": {
   "hash": "9cf3e62341bd4183173a1159c47c02bb03d818f88413248385459adf80d3bee4"
  },
  "kernelspec": {
   "display_name": "Python 3.8.5 64-bit ('base': conda)",
   "language": "python",
   "name": "python3"
  },
  "language_info": {
   "codemirror_mode": {
    "name": "ipython",
    "version": 3
   },
   "file_extension": ".py",
   "mimetype": "text/x-python",
   "name": "python",
   "nbconvert_exporter": "python",
   "pygments_lexer": "ipython3",
   "version": "3.8.5"
  },
  "orig_nbformat": 4
 },
 "nbformat": 4,
 "nbformat_minor": 2
}
